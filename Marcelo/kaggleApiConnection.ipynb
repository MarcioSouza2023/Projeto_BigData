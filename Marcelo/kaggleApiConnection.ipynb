{
 "cells": [
  {
   "cell_type": "markdown",
   "metadata": {},
   "source": [
    "### Para iniciar\n",
    "\n",
    "Antes de tudo acesse o site https://www.kaggle.com/, crie uma conta, vá em configurações (settings), na área API, gere uma nova chave em \"Create New Token\".\n",
    "Caos você venha a encontrar algum problema na execução desse código, pode ser que seja necessário, gerar uma nova chave lá no site do Kaggle, pois ela pode ter sido expirada."
   ]
  },
  {
   "cell_type": "code",
   "execution_count": null,
   "metadata": {},
   "outputs": [],
   "source": []
  },
  {
   "cell_type": "markdown",
   "metadata": {},
   "source": [
    "### Instalando a biblioteca do Kaggle\n",
    "\n",
    "Este comando é utilizado em ambientes de desenvolvimento Python, como o Jupyter Notebook, para instalar a biblioteca kaggle através do gerenciador de pacotes pip. A biblioteca kaggle é uma ferramenta de linha de comando que facilita o download e upload de conjuntos de dados no Kaggle, uma plataforma online popular para competições de ciência de dados e aprendizado de máquina.\n",
    "\n",
    "É inserido o comando \"!\" antes do comando para dizer ao caderno do Jupyter notebook que esse comando se refere ao terminal."
   ]
  },
  {
   "cell_type": "code",
   "execution_count": null,
   "metadata": {},
   "outputs": [],
   "source": [
    "!pip install kaggle\n"
   ]
  },
  {
   "cell_type": "markdown",
   "metadata": {},
   "source": [
    "### Importando a biblioteca Kaggle no projeto\n",
    "\n",
    "O código import kaggle serve para importar o pacote (biblioteca) kaggle no seu ambiente Python. Após a importação, você pode utilizar as funcionalidades disponíveis nessa biblioteca para interagir com a plataforma Kaggle, como baixar conjuntos de dados, participar de competições, enviar resultados, entre outras operações.\n",
    "\n",
    "Todas as vezes que instalamos uma biblioteca, necessitamos importá-las no python, para que os códigos dessa biblioteca possam ser reutilizados neste código que estamos utilizando aqui."
   ]
  },
  {
   "cell_type": "code",
   "execution_count": 1,
   "metadata": {},
   "outputs": [],
   "source": [
    "import kaggle\n"
   ]
  },
  {
   "cell_type": "markdown",
   "metadata": {},
   "source": [
    "### Importando a classe KaggleApi\n",
    "\n",
    "A linha de código from kaggle.api.kaggle_api_extended import KaggleApi importa a classe KaggleApi do módulo kaggle.api.kaggle_api_extended. Essa classe faz parte da biblioteca kaggle, que é uma ferramenta de linha de comando e uma API Python para interagir com a plataforma Kaggle.\n",
    "\n",
    "A classe KaggleApi fornece métodos para autenticação e diversas operações relacionadas à plataforma Kaggle, como fazer upload ou download de conjuntos de dados, participar de competições, obter informações sobre conjuntos de dados e competições, entre outras funcionalidades.\n",
    "\n",
    "Esses métodos serão utilizados mais adiante no decorrer do nosso código.\n"
   ]
  },
  {
   "cell_type": "code",
   "execution_count": 2,
   "metadata": {},
   "outputs": [],
   "source": [
    "from kaggle.api.kaggle_api_extended import KaggleApi"
   ]
  },
  {
   "cell_type": "markdown",
   "metadata": {},
   "source": [
    "### Criando as instâncias de cada método\n",
    "\n",
    "Os dois trechos de código que você forneceu são usados para criar uma instância da classe KaggleApi e autenticar essa instância para permitir o acesso à API do Kaggle.\n",
    "\n",
    "api = KaggleApi(): Isso cria uma instância da classe KaggleApi e a atribui à variável api. Essa instância será usada para interagir com a API do Kaggle.\n",
    "\n",
    "api.authenticate(): Este método é chamado para autenticar a instância api. A autenticação é um passo necessário para garantir que suas solicitações à API sejam autorizadas. Quando você chama authenticate(), normalmente será solicitado que você forneça suas credenciais do Kaggle, como nome de usuário e senha, ou token de API."
   ]
  },
  {
   "cell_type": "code",
   "execution_count": 3,
   "metadata": {},
   "outputs": [],
   "source": [
    "api = KaggleApi()\n",
    "api.authenticate()"
   ]
  },
  {
   "cell_type": "markdown",
   "metadata": {},
   "source": [
    "### Setando a variável com o nome da base que queremos efetuar o download\n",
    "\n",
    "Esse é um conjunto de dados brasileiro de e-commerce hospedado no Kaggle. Se você quiser baixar esse conjunto de dados usando a biblioteca kaggle em Python, você pode usar o método dataset_download_files. \n"
   ]
  },
  {
   "cell_type": "code",
   "execution_count": 4,
   "metadata": {},
   "outputs": [],
   "source": [
    "dataset_name = 'olistbr/brazilian-ecommerce'"
   ]
  },
  {
   "cell_type": "markdown",
   "metadata": {},
   "source": [
    "### Criando o diretório padrão para baixar o arquivo\n",
    "\n",
    "Esse diretório será baixado o arquivo via conexão com a API, na linha de comando logo abaixo:"
   ]
  },
  {
   "cell_type": "code",
   "execution_count": 5,
   "metadata": {},
   "outputs": [],
   "source": [
    "download_path = './dataset'"
   ]
  },
  {
   "cell_type": "markdown",
   "metadata": {},
   "source": [
    "### Baixando o arquivo da API\n",
    "\n",
    "dataset_download_files: Este é o método da classe KaggleApi usado para baixar os arquivos de um conjunto de dados do Kaggle.\n",
    "\n",
    "dataset_name: É o nome do conjunto de dados que você deseja baixar. No seu caso, é 'olistbr/brazilian-ecommerce'.\n",
    "\n",
    "path=download_path: Este é um argumento opcional que especifica o diretório para onde os arquivos do conjunto de dados serão baixados. No seu caso, é download_path, que foi definido como ./dataset. Se o diretório não existir, o método tentará criar um.\n",
    "\n",
    "unzip=True: Este é outro argumento opcional que indica se os arquivos baixados devem ser descompactados após o download. No seu caso, é True, o que significa que os arquivos serão descompactados."
   ]
  },
  {
   "cell_type": "code",
   "execution_count": 7,
   "metadata": {},
   "outputs": [],
   "source": [
    "api.dataset_download_files(dataset_name, path=download_path, unzip=True)"
   ]
  }
 ],
 "metadata": {
  "kernelspec": {
   "display_name": "Python 3",
   "language": "python",
   "name": "python3"
  },
  "language_info": {
   "codemirror_mode": {
    "name": "ipython",
    "version": 3
   },
   "file_extension": ".py",
   "mimetype": "text/x-python",
   "name": "python",
   "nbconvert_exporter": "python",
   "pygments_lexer": "ipython3",
   "version": "3.11.5"
  }
 },
 "nbformat": 4,
 "nbformat_minor": 2
}
