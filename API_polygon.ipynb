{
  "nbformat": 4,
  "nbformat_minor": 0,
  "metadata": {
    "colab": {
      "provenance": [],
      "authorship_tag": "ABX9TyP2rBGi8afTgfA4CHmc0yUT",
      "include_colab_link": true
    },
    "kernelspec": {
      "name": "python3",
      "display_name": "Python 3"
    },
    "language_info": {
      "name": "python"
    }
  },
  "cells": [
    {
      "cell_type": "markdown",
      "metadata": {
        "id": "view-in-github",
        "colab_type": "text"
      },
      "source": [
        "<a href=\"https://colab.research.google.com/github/MarcioSouza2023/Projeto_BigData/blob/main/API_polygon.ipynb\" target=\"_parent\"><img src=\"https://colab.research.google.com/assets/colab-badge.svg\" alt=\"Open In Colab\"/></a>"
      ]
    },
    {
      "cell_type": "markdown",
      "source": [
        "**Esta documentação descreve cada parte do código e seu propósito, ajudando a entender o que cada linha está fazendo.**"
      ],
      "metadata": {
        "id": "JgaWMau67veX"
      }
    },
    {
      "cell_type": "markdown",
      "source": [
        "1- Instalação de bibliotecas:"
      ],
      "metadata": {
        "id": "qnAV07TW22E_"
      }
    },
    {
      "cell_type": "code",
      "source": [
        "##Isso instala a biblioteca yfinance usando o comando de instalação de pacotes do Python.\n",
        "!pip install -q yfinance\n",
        "\n",
        "##Isso instala a biblioteca polygon-api-client usando o comando de instalação de pacotes do Python.\n",
        "%pip install polygon-api-client"
      ],
      "metadata": {
        "id": "daZSIssDD3FC"
      },
      "execution_count": null,
      "outputs": []
    },
    {
      "cell_type": "markdown",
      "source": [
        "2- Importação de bibliotecas:\n",
        "\n",
        "Essas linhas importam várias bibliotecas necessárias para o script, como json para manipulação de JSON, requests para fazer requisições HTTP, pandas e numpy para manipulação de dados tabulares, datetime para lidar com datas e matplotlib.pyplot para visualização de gráficos também importa a biblioteca yfinance e a renomeia como yf para facilitar o uso.\n"
      ],
      "metadata": {
        "id": "FOAmvNSe3REK"
      }
    },
    {
      "cell_type": "code",
      "execution_count": null,
      "metadata": {
        "id": "hsRs6up3HY10"
      },
      "outputs": [],
      "source": [
        "import json\n",
        "import requests\n",
        "import pandas as pd\n",
        "import numpy as DataFrame\n",
        "import datetime as dt\n",
        "import yfinance as yf\n",
        "import matplotlib.pyplot as ploty\n",
        "\n"
      ]
    },
    {
      "cell_type": "markdown",
      "source": [
        "3- Importação de módulos relacionados ao Polygon:"
      ],
      "metadata": {
        "id": "jGhLV7DZ3rXu"
      }
    },
    {
      "cell_type": "code",
      "source": [
        "##Essas linhas importam módulos relacionados à API do Polygon para obtenção de dados financeiros.\n",
        "import plotly.graph_objects\n",
        "from polygon import RESTClient\n",
        "\n"
      ],
      "metadata": {
        "id": "N67agE4iDYHY"
      },
      "execution_count": null,
      "outputs": []
    },
    {
      "cell_type": "markdown",
      "source": [
        "4- Definição da chave de API do Polygon:\n",
        "\n",
        "Isso define a chave de API do Polygon para autenticação."
      ],
      "metadata": {
        "id": "02Cj8xav4CNu"
      }
    },
    {
      "cell_type": "code",
      "source": [
        "polygonAPIKey = ('tcyBglEeW7R87HQt35wVENPwstdlxver')"
      ],
      "metadata": {
        "id": "B9ZbRB6DFFy2"
      },
      "execution_count": null,
      "outputs": []
    },
    {
      "cell_type": "markdown",
      "source": [
        "5- Criação do cliente REST para a API do Polygon:\n",
        "\n",
        "Isso cria uma instância do cliente REST para interagir com a API do Polygon usando a chave de API fornecida."
      ],
      "metadata": {
        "id": "BY0pJnDu4LvW"
      }
    },
    {
      "cell_type": "code",
      "source": [
        "client = RESTClient(polygonAPIKey)\n"
      ],
      "metadata": {
        "id": "9eDQBGKqHcnD"
      },
      "execution_count": null,
      "outputs": []
    },
    {
      "cell_type": "markdown",
      "source": [
        "6- Função return_commonstock_tickers:"
      ],
      "metadata": {
        "id": "LwMcQWEf4wVB"
      }
    },
    {
      "cell_type": "markdown",
      "source": [],
      "metadata": {
        "id": "gyMyJbI64ROO"
      }
    },
    {
      "cell_type": "code",
      "source": [
        "##Isso define uma função que retorna uma lista de tickers de ações com base em uma solicitação à API do Polygon.\n",
        "def return_commonstock_tickers():\n",
        "\n",
        "##Esta é a URL da API do Polygon que é usada para obter os dados desejados.\n",
        "    url = 'https://api.polygon.io/v2/aggs/ticker/AAPL34,MSFT34,AMZN,GOOG,CSCO/range/1/day/2019-01-01/2023-12-31?adjusted=true&sort=asc&limit=120&apiKey=tcyBglEeW7R87HQt35wVENPwstdlxver'\n",
        "\n",
        "    parameters = {##Parâmetros para a solicitação à API do Polygon.\n",
        "\n",
        "    \"ticker\":\"GOGL34\",\n",
        "    \"queryCount\": 0,\n",
        "    \"resultsCount\": 0,\n",
        "    \"status\": \"OK\",\n",
        "    \"request_id\": \"8e1ca85ad6eb96b011619578e2d0af69\"\n",
        "        }\n",
        "\n",
        "##Tentativa de fazer uma solicitação à API usando o método _RequestType.get\n",
        "    try:\n",
        "        tickers_json = requestType.get(url).json()\n",
        "\n",
        "##Inicialização da lista de tickers com os resultados da primeira solicitação.\n",
        "        tickers_list = tickers_json['results']\n",
        "\n",
        "##Loop para continuar a obter mais dados, estendendo a lista de tickers até que não haja mais resultados.\n",
        "        while tickers_json(url):\n",
        "            tickers_json = requests.get(url).json()\n",
        "            tickers_list.extend(tickers_json[\"results\"])\n",
        "            if 'url' not in tickers_json.keys():\n",
        "                break\n",
        "\n",
        "## Acionar uma espera, pois o nível gratuito é limitado a 5 chamadas/min\n",
        "            time.sleep(12)\n",
        "\n",
        "## Captura de exceção para retornar None em caso de falha na solicitação.\n",
        "    except:\n",
        "        return None\n",
        "\n",
        "##Retorna a lista final de tickers.\n",
        "    return tickers_list"
      ],
      "metadata": {
        "id": "AusFvDOtHo3h"
      },
      "execution_count": null,
      "outputs": []
    },
    {
      "cell_type": "markdown",
      "source": [
        "7- Função return_commonstock_tickers (sobrecarregada):"
      ],
      "metadata": {
        "id": "QHjlpGTX6hI_"
      }
    },
    {
      "cell_type": "code",
      "source": [
        "##Sobrecarga da função anterior para obter dados históricos de uma ação específica usando a biblioteca yfinance.\n",
        "def return_commonstock_tickers(ticker):\n",
        "\n",
        "## Criação de uma instância de yf.Ticker para o ticker específico.\n",
        "    ticker_data = yf.Ticker(ticker)\n",
        "\n",
        "## Obtém dados históricos da ação no período de 2018-01-01 a 2023-12-31.\n",
        "    ticker_df = ticker_data.history(start=\"2018-01-01\", end=\"2023-12-31\")\n",
        "\n",
        "## Verifica se os dados estão vazios e retorna None se for o caso.\n",
        "    if ticker_df.empty:\n",
        "        return None\n",
        "\n",
        "## Retorna o DataFrame contendo os dados históricos do ativo financeiro\n",
        "    return ticker_df"
      ],
      "metadata": {
        "id": "QPorHStb_jtW"
      },
      "execution_count": null,
      "outputs": []
    },
    {
      "cell_type": "markdown",
      "source": [
        "8- Chamada da função e exibição do resultado:"
      ],
      "metadata": {
        "id": "sqkM9dGc7Wqu"
      }
    },
    {
      "cell_type": "code",
      "source": [
        "##Chamada da função return_commonstock_tickers para o ticker \"Ativo financeiro\" e exibe o resultado.\n",
        "result = return_commonstock_tickers(\"GOGL\")\n",
        "display(result)\n"
      ],
      "metadata": {
        "id": "UinMC5Ng_90y"
      },
      "execution_count": null,
      "outputs": []
    },
    {
      "cell_type": "markdown",
      "source": [],
      "metadata": {
        "id": "ignIbbD5rp_f"
      }
    }
  ]
}