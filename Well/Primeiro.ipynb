{
 "cells": [
  {
   "cell_type": "markdown",
   "metadata": {},
   "source": [
    "## Instalando Kaggle\n",
    "\n",
    "O comando \"!pip install kaggle\" é utilizado para instalar o pacote Python chamado \"kaggle\" usando o gerenciador de pacotes pip."
   ]
  },
  {
   "cell_type": "code",
   "execution_count": null,
   "metadata": {},
   "outputs": [],
   "source": [
    "!pip install kaggle"
   ]
  },
  {
   "cell_type": "markdown",
   "metadata": {},
   "source": [
    "## Importando chave API Kaggle\n",
    "\n",
    "Neste ponto é necessario gerar a chave no perfil do Kaggle. Vai ser feito o dowload de um arquivo .jason.\n",
    "A partir disso o codigo abaixo seleciona o arquivo e coloca na pasta correta."
   ]
  },
  {
   "cell_type": "code",
   "execution_count": null,
   "metadata": {},
   "outputs": [],
   "source": [
    "from tkinter import Tk\n",
    "from tkinter.filedialog import askopenfilename\n",
    "import shutil\n",
    "\n",
    "def upload_kaggle_token():\n",
    "    Tk().withdraw()  # Mantém uma janela Tkinter oculta\n",
    "    file_path = askopenfilename(title=\"kaggle.json\")\n",
    "\n",
    "    # Move o arquivo para o local correto\n",
    "    shutil.copy(file_path, r'C:\\Users\\ton98\\.kaggle')\n",
    "\n",
    "upload_kaggle_token()"
   ]
  },
  {
   "cell_type": "markdown",
   "metadata": {},
   "source": [
    "## Importando Kaggle\n",
    "\n",
    "O comando import kaggle em Python é utilizado para importar a biblioteca Kaggle, que fornece uma interface de linha de comando (CLI) para interagir com a plataforma Kaggle diretamente do seu ambiente de desenvolvimento. Ao executar import kaggle, você está basicamente carregando as funcionalidades disponíveis na biblioteca Kaggle no seu script ou ambiente de programação. Isso permite que você utilize as diversas funcionalidades que a biblioteca oferece, como baixar conjuntos de dados, enviar suas soluções para competições, ou realizar outras operações relacionadas à plataforma Kaggle."
   ]
  },
  {
   "cell_type": "code",
   "execution_count": 9,
   "metadata": {},
   "outputs": [],
   "source": [
    "import kaggle"
   ]
  },
  {
   "cell_type": "code",
   "execution_count": null,
   "metadata": {},
   "outputs": [],
   "source": []
  }
 ],
 "metadata": {
  "kernelspec": {
   "display_name": "Python 3",
   "language": "python",
   "name": "python3"
  },
  "language_info": {
   "codemirror_mode": {
    "name": "ipython",
    "version": 3
   },
   "file_extension": ".py",
   "mimetype": "text/x-python",
   "name": "python",
   "nbconvert_exporter": "python",
   "pygments_lexer": "ipython3",
   "version": "3.12.0"
  }
 },
 "nbformat": 4,
 "nbformat_minor": 2
}
