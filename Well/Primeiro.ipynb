{
 "cells": [
  {
   "cell_type": "markdown",
   "metadata": {},
   "source": [
    "## **Instalando Kaggle**\n",
    "\n",
    "O comando \"!pip install kaggle\" é utilizado para instalar o pacote Python chamado \"kaggle\" usando o gerenciador de pacotes pip."
   ]
  },
  {
   "cell_type": "code",
   "execution_count": null,
   "metadata": {},
   "outputs": [],
   "source": [
    "!pip install kaggle"
   ]
  },
  {
   "cell_type": "markdown",
   "metadata": {},
   "source": [
    "## **Importando chave API Kaggle**\n",
    "\n",
    "Neste ponto é necessario gerar a chave no perfil do Kaggle. Vai ser feito o dowload de um arquivo .jason.\n",
    "A partir disso o codigo abaixo seleciona o arquivo e coloca na pasta correta.\n",
    "\n",
    "#### **Importação de Módulos**\n",
    "\"Tk\": É uma classe da biblioteca Tkinter que representa uma janela Tkinter.\n",
    "\"askopenfilename\": É uma função do Tkinter que abre um diálogo para selecionar um arquivo.\n",
    "\"os\": Fornece funções relacionadas ao sistema operacional.\n",
    "\"shutil\": Fornece operações de alto nível para manipulação de arquivos.\n",
    "\n",
    "#### **Definição da Função 'upload_kaggle_token'**\n",
    "\"Tk().withdraw()\": Cria uma janela Tkinter oculta. Isso é feito para que a janela de seleção de arquivo não apareça ao usuário.\n",
    "\"askopenfilename(title=\"kaggle.json\")\": Exibe um diálogo de seleção de arquivo e retorna o caminho do arquivo selecionado.\n",
    "\n",
    "#### **Manipulação de Caminhos**\n",
    "\"os.path.expanduser(\"~\")\": Obtém o diretório do usuário.\n",
    "\"os.path.join(user_dir, '.kaggle')\": Constrói o caminho para o diretório .kaggle dentro do diretório do usuário.\n",
    "\"os.path.exists(kaggle_dir)\": Verifica se o diretório .kaggle já existe.\n",
    "\"os.makedirs(kaggle_dir)\": Cria o diretório se ele não existir.\n",
    "\"shutil.copy(file_path, kaggle_dir)\": Move o arquivo selecionado para o diretório .kaggle.\n",
    "\"upload_kaggle_token()\": É chamada para executar o processo de seleção e movimentação do arquivo."
   ]
  },
  {
   "cell_type": "code",
   "execution_count": 1,
   "metadata": {},
   "outputs": [],
   "source": [
    "from tkinter import Tk\n",
    "from tkinter.filedialog import askopenfilename\n",
    "import os\n",
    "import shutil\n",
    "\n",
    "def upload_kaggle_token():\n",
    "    Tk().withdraw()  # Mantém uma janela Tkinter oculta\n",
    "    file_path = askopenfilename(title=\"kaggle.json\")\n",
    "\n",
    "    # Obtém o diretório do usuário\n",
    "    user_dir = os.path.expanduser(\"~\")\n",
    "\n",
    "    # Constrói o caminho para o diretório .kaggle\n",
    "    kaggle_dir = os.path.join(user_dir, '.kaggle')\n",
    "\n",
    "    # Cria o diretório se não existir\n",
    "    if not os.path.exists(kaggle_dir):\n",
    "        os.makedirs(kaggle_dir)\n",
    "\n",
    "    # Move o arquivo para o local correto\n",
    "    shutil.copy(file_path, kaggle_dir)\n",
    "\n",
    "upload_kaggle_token()"
   ]
  },
  {
   "cell_type": "markdown",
   "metadata": {},
   "source": [
    "## **Importando Kaggle**\n",
    "\n",
    "O comando import kaggle em Python é utilizado para importar a biblioteca Kaggle, que fornece uma interface de linha de comando (CLI) para interagir com a plataforma Kaggle diretamente do seu ambiente de desenvolvimento. Ao executar import kaggle, você está basicamente carregando as funcionalidades disponíveis na biblioteca Kaggle no seu script ou ambiente de programação. Isso permite que você utilize as diversas funcionalidades que a biblioteca oferece, como baixar conjuntos de dados, enviar suas soluções para competições, ou realizar outras operações relacionadas à plataforma Kaggle."
   ]
  },
  {
   "cell_type": "code",
   "execution_count": 9,
   "metadata": {},
   "outputs": [],
   "source": [
    "import kaggle"
   ]
  },
  {
   "cell_type": "markdown",
   "metadata": {},
   "source": [
    "## **Importando KaggleApi**\n",
    "\n",
    "O comando from kaggle.api.kaggle_api_extended import KaggleApi está importando a classe KaggleApi do módulo kaggle_api_extended do pacote kaggle.api no Python. \n",
    "A classe KaggleApi fornece métodos que permitem autenticação, upload e download de conjuntos de dados, listagem de conjuntos de dados, competições, entre outras funcionalidades relacionadas ao Kaggle."
   ]
  },
  {
   "cell_type": "code",
   "execution_count": 1,
   "metadata": {},
   "outputs": [],
   "source": [
    "from kaggle.api.kaggle_api_extended import KaggleApi"
   ]
  },
  {
   "cell_type": "markdown",
   "metadata": {},
   "source": [
    "## **Download do conjunto de dados do Kaggle**\n",
    "\n",
    "Esse código em Python realiza o download de um conjunto de dados do Kaggle usando a Kaggle CLI (Command-Line Interface) por meio do módulo \"subprocess\".\n",
    "\n",
    "O módulo subprocess é utilizado para chamar processos externos a partir do seu script Python.\n",
    "\n",
    "A função download_kaggle_dataset recebe dois argumentos: dataset (o identificador do conjunto de dados no Kaggle) e destination_path (o caminho onde o conjunto de dados será baixado).\n",
    "Utiliza o subprocess.run para executar o comando kaggle datasets download -d <dataset> -p <destination_path>."
   ]
  },
  {
   "cell_type": "code",
   "execution_count": 1,
   "metadata": {},
   "outputs": [],
   "source": [
    "import subprocess\n",
    "\n",
    "def download_kaggle_dataset(dataset, destination_path='.'):\n",
    "    subprocess.run(['kaggle', 'datasets', 'download', '-d', dataset, '-p', destination_path])\n",
    "\n",
    "# Exemplo de uso sem especificar um caminho de destino\n",
    "download_kaggle_dataset('olistbr/brazilian-ecommerce')\n"
   ]
  },
  {
   "cell_type": "markdown",
   "metadata": {},
   "source": [
    "## **Extraindo Arquivos**\n",
    "\n",
    "O código abaixo extrai o conteúdo de um arquivo ZIP para um diretório específico e, em seguida, remove o próprio arquivo ZIP, mantendo apenas os dados descompactados no diretório 'brazilian_ecommerce'.\n",
    "\n",
    "A linha de código import \"zipfile\" em Python importa o módulo zipfile. O módulo zipfile é parte da biblioteca padrão do Python e fornece funcionalidades para trabalhar com arquivos ZIP.\n",
    "\n",
    "O módulo \"os\" em Python fornece uma maneira de interagir com o sistema operacional subjacente, permitindo que você execute operações relacionadas ao sistema de arquivos, manipulação de caminhos, variáveis de ambiente, entre outras funcionalidades."
   ]
  },
  {
   "cell_type": "code",
   "execution_count": 2,
   "metadata": {},
   "outputs": [],
   "source": [
    "import zipfile\n",
    "import os\n",
    "\n",
    "# Caminho para o arquivo ZIP e diretório de extração\n",
    "zip_file_path = 'brazilian-ecommerce.zip'\n",
    "extracted_dir = 'brazilian_ecommerce'\n",
    "\n",
    "# Descompactando o conjunto de dados\n",
    "with zipfile.ZipFile(zip_file_path, 'r') as zip_ref:\n",
    "    zip_ref.extractall(extracted_dir)\n",
    "\n",
    "# Removendo o arquivo ZIP após a extração\n",
    "os.remove(zip_file_path)"
   ]
  }
 ],
 "metadata": {
  "kernelspec": {
   "display_name": "Python 3",
   "language": "python",
   "name": "python3"
  },
  "language_info": {
   "codemirror_mode": {
    "name": "ipython",
    "version": 3
   },
   "file_extension": ".py",
   "mimetype": "text/x-python",
   "name": "python",
   "nbconvert_exporter": "python",
   "pygments_lexer": "ipython3",
   "version": "3.12.0"
  }
 },
 "nbformat": 4,
 "nbformat_minor": 2
}
