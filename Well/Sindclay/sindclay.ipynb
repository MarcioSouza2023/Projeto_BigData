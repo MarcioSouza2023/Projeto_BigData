{
 "cells": [
  {
   "cell_type": "code",
   "execution_count": null,
   "id": "cf9d50b6",
   "metadata": {},
   "outputs": [],
   "source": [
    "import pandas as pd\n",
    "import numpy as np\n",
    "from unidecode import unidecode"
   ]
  },
  {
   "cell_type": "code",
   "execution_count": null,
   "id": "0d8ad190",
   "metadata": {},
   "outputs": [],
   "source": [
    "# A CONEXÃO COM O Kaggle via API ficará nesta célula\n",
    "\n",
    "# -- CÓDIGO AQUI -- #\n"
   ]
  },
  {
   "cell_type": "markdown",
   "id": "1a4e7591",
   "metadata": {},
   "source": [
    "## Carregamento dos arquivos .csv via url\n",
    "Para faciliar o carregamento dos arquivos, de primeiro momento será feito via \"url\".\n",
    "\n",
    "Quando estiver definido a célula com o código de descarga e carregamento dos arquivos, basta apenas acrescentar uma célula acima e substituir o nome do \"link\" que está em *pd.read_csv(link)* logo mais abaixo."
   ]
  },
  {
   "cell_type": "code",
   "execution_count": null,
   "id": "a43da162",
   "metadata": {},
   "outputs": [],
   "source": [
    "csv_olist_geolocation_dataset = \"https://raw.githubusercontent.com/Wellitiz/Projeto_BigData/main/dataset/olist_geolocation_dataset.csv\"\n",
    "\n",
    "csv_olist_order_items_dataset = \"https://raw.githubusercontent.com/Wellitiz/Projeto_BigData/main/dataset/olist_order_items_dataset.csv\"\n"
   ]
  },
  {
   "cell_type": "code",
   "execution_count": null,
   "id": "d3c386ce",
   "metadata": {},
   "outputs": [],
   "source": [
    "df = pd.read_csv(csv_olist_geolocation_dataset)\n",
    "df"
   ]
  },
  {
   "cell_type": "code",
   "execution_count": null,
   "id": "8bba1707",
   "metadata": {},
   "outputs": [],
   "source": [
    "# Info\n",
    "df.info()"
   ]
  },
  {
   "cell_type": "code",
   "execution_count": null,
   "id": "3778b266",
   "metadata": {},
   "outputs": [],
   "source": [
    "# Descrevendo os dados não numéricos (textos)\n",
    "df.describe(include = object)"
   ]
  },
  {
   "cell_type": "code",
   "execution_count": null,
   "id": "c60a683d",
   "metadata": {},
   "outputs": [],
   "source": [
    "df.describe()"
   ]
  },
  {
   "cell_type": "code",
   "execution_count": null,
   "id": "c543df46",
   "metadata": {},
   "outputs": [],
   "source": [
    "# exibir o máximo de linhas nas consultas abaixo:\n",
    "pd.set_option('display.max_rows', None)"
   ]
  },
  {
   "cell_type": "code",
   "execution_count": null,
   "id": "2e012956",
   "metadata": {},
   "outputs": [],
   "source": [
    "# Valores únicos na coluna \"geolocation_state\"\n",
    "# Conta valores específicos: df['geolocation_state'].value_counts()['SP']\n",
    "\n",
    "# df['geolocation_state'].value_counts()[['SP','RJ','MG']] #valores específicos\n",
    "df['geolocation_state'].value_counts() # Todos os valores"
   ]
  },
  {
   "cell_type": "markdown",
   "id": "af2a806a",
   "metadata": {},
   "source": [
    "## Valores duplicado na coluna que representa as Cidades ('geolocation_city')\n",
    "\n",
    "Alguns nomes de cidades estão escritos 'com' e 'sem' pontuação ou contendo caracteres especiais, gerando valores duplicados:\n",
    "\n",
    "* *SÃO PAULO:*\n",
    "    * sao paulo\n",
    "    * são paulo\n",
    "    * sãopaulo\n",
    "    * sa£o paulo"
   ]
  },
  {
   "cell_type": "code",
   "execution_count": null,
   "id": "11ee5f33",
   "metadata": {},
   "outputs": [],
   "source": [
    "# Valores únicos na coluna \"geolocation_state\"\n",
    "#valores_unique = df[df['geolocation_city'].str.contains('são paulo' or 'sao paulo')]\n",
    "\n",
    "#valores_unique['geolocation_city'].value_counts()\n",
    "# df['geolocation_city'].unique()\n",
    "\n",
    "# Selecione a coluna desejada\n",
    "unique_cities = df['geolocation_city'].unique()\n",
    "\n",
    "# Crie um DataFrame a partir do array\n",
    "df_unique_cities = pd.DataFrame({'Unique Cities': unique_cities})\n",
    "\n",
    "# Exiba o DataFrame\n",
    "df_unique_cities\n",
    "\n",
    "\n",
    "\n"
   ]
  },
  {
   "cell_type": "code",
   "execution_count": null,
   "id": "a976b32a",
   "metadata": {},
   "outputs": [],
   "source": [
    "quantidade_valores_unicos = df['geolocation_city'].nunique()\n",
    "print(f'A quantidade de valores únicos na coluna geolocation_city é: {quantidade_valores_unicos}')"
   ]
  },
  {
   "cell_type": "code",
   "execution_count": null,
   "metadata": {},
   "outputs": [],
   "source": [
    "from unidecode import unidecode\n",
    "df['geolocation_city'] = df['geolocation_city'].apply(lambda x: unidecode(str(x).lower()))\n",
    "\n",
    "# Agora, df['geolocation_city'] contém os valores padronizados\n"
   ]
  },
  {
   "cell_type": "code",
   "execution_count": null,
   "metadata": {},
   "outputs": [],
   "source": [
    "# Selecione a coluna desejada\n",
    "unique_cities = df['geolocation_city'].unique()\n",
    "\n",
    "# Crie um DataFrame a partir do array\n",
    "df_unique_cities = pd.DataFrame({'Unique Cities': unique_cities})\n",
    "\n",
    "# Exiba o DataFrame\n",
    "df_unique_cities"
   ]
  },
  {
   "cell_type": "code",
   "execution_count": null,
   "metadata": {},
   "outputs": [],
   "source": [
    "df_unique_cities.to_csv('cidadesreduzido.txt', index=False, header=True, sep='\\t')"
   ]
  },
  {
   "cell_type": "code",
   "execution_count": null,
   "metadata": {},
   "outputs": [],
   "source": [
    "df['geolocation_city'] = df['geolocation_city'].replace(['4o centenario', '4o. centenario'], '40 centenario')"
   ]
  },
  {
   "cell_type": "code",
   "execution_count": null,
   "metadata": {},
   "outputs": [],
   "source": [
    "# Selecione a coluna desejada\n",
    "unique_cities = df['geolocation_city'].unique()\n",
    "\n",
    "# Crie um DataFrame a partir do array\n",
    "df_unique_cities = pd.DataFrame({'Unique Cities': unique_cities})\n",
    "\n",
    "# Exiba o DataFrame\n",
    "df_unique_cities"
   ]
  },
  {
   "cell_type": "code",
   "execution_count": null,
   "id": "b4a3727a",
   "metadata": {},
   "outputs": [],
   "source": [
    "# Substitua os valores na coluna 'geolocation_city'\n",
    "df['geolocation_city'] = df['geolocation_city'].replace(['são paulo', 'sãopaulo', 'sa£o paulo', 'sp'], 'sao paulo')"
   ]
  },
  {
   "cell_type": "code",
   "execution_count": null,
   "id": "ae1770ee",
   "metadata": {},
   "outputs": [],
   "source": [
    "# Selecione a coluna desejada\n",
    "df['geolocation_city'].value_counts()['sao paulo']\n"
   ]
  },
  {
   "cell_type": "code",
   "execution_count": null,
   "metadata": {},
   "outputs": [],
   "source": [
    "# Substitua 'cidadesbr.xlsx' pelo caminho do seu arquivo Excel\n",
    "cdbr = pd.read_excel('cidadesbr.xlsx', header=None)\n",
    "\n",
    "# Exibe o DataFrame\n",
    "print(cdbr)"
   ]
  },
  {
   "cell_type": "code",
   "execution_count": null,
   "metadata": {},
   "outputs": [],
   "source": [
    "cdbr = cdbr.applymap(lambda x: unidecode(str(x).lower()))\n",
    "\n",
    "cdbr"
   ]
  },
  {
   "cell_type": "markdown",
   "metadata": {},
   "source": [
    "## Testanto\n"
   ]
  },
  {
   "cell_type": "code",
   "execution_count": 43,
   "metadata": {},
   "outputs": [],
   "source": [
    "# Carregue os dois arquivos Excel\n",
    "df1 = pd.read_excel('ar1.xlsx')\n",
    "df2 = pd.read_excel('ar2.xlsx')"
   ]
  },
  {
   "cell_type": "code",
   "execution_count": 45,
   "metadata": {},
   "outputs": [],
   "source": [
    "# Remova os nomes do primeiro arquivo que existem no segundo arquivo\n",
    "df1 = df1[~df1['NOMES'].isin(df2['NOMES'])]"
   ]
  },
  {
   "cell_type": "code",
   "execution_count": 46,
   "metadata": {},
   "outputs": [],
   "source": [
    "# Salve o resultado em um novo arquivo Excel ou atualize o arquivo original\n",
    "df1.to_excel('resultado.xlsx', index=False)"
   ]
  }
 ],
 "metadata": {
  "kernelspec": {
   "display_name": "Python 3 (ipykernel)",
   "language": "python",
   "name": "python3"
  },
  "language_info": {
   "codemirror_mode": {
    "name": "ipython",
    "version": 3
   },
   "file_extension": ".py",
   "mimetype": "text/x-python",
   "name": "python",
   "nbconvert_exporter": "python",
   "pygments_lexer": "ipython3",
   "version": "3.12.0"
  }
 },
 "nbformat": 4,
 "nbformat_minor": 5
}
