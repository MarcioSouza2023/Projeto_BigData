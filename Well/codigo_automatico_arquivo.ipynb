{
 "cells": [
  {
   "cell_type": "code",
   "execution_count": null,
   "metadata": {},
   "outputs": [],
   "source": [
    "from tkinter import Tk\n",
    "from tkinter.filedialog import askopenfilename\n",
    "import os\n",
    "import shutil\n",
    "from pathlib import Path\n",
    "\n",
    "def upload_kaggle_token():\n",
    "    # Obtém o diretório do notebook\n",
    "    notebook_dir = Path().resolve()\n",
    "\n",
    "    # Constrói o caminho para a pasta \"Kaggle Token\"\n",
    "    kaggle_token_dir = notebook_dir / 'Kaggle Token'\n",
    "\n",
    "    # Obtém o caminho completo para o arquivo kaggle.json\n",
    "    file_path = kaggle_token_dir / 'kaggle.json'\n",
    "\n",
    "    # Verifica se o arquivo existe antes de prosseguir\n",
    "    if not file_path.exists():\n",
    "        print(\"O arquivo 'kaggle.json' não foi encontrado na pasta 'Kaggle Token'.\")\n",
    "        return\n",
    "\n",
    "    # Obtém o diretório do usuário\n",
    "    user_dir = Path.home()\n",
    "\n",
    "    # Constrói o caminho para o diretório .kaggle\n",
    "    kaggle_dir = user_dir / '.kaggle'\n",
    "\n",
    "    # Cria o diretório se não existir\n",
    "    if not kaggle_dir.exists():\n",
    "        kaggle_dir.mkdir()\n",
    "\n",
    "    # Move o arquivo para o local correto\n",
    "    shutil.copy(file_path, kaggle_dir)\n",
    "    print(\"Arquivo 'kaggle.json' movido com sucesso para o diretório '.kaggle'.\")\n",
    "\n",
    "upload_kaggle_token()"
   ]
  }
 ],
 "metadata": {
  "language_info": {
   "name": "python"
  }
 },
 "nbformat": 4,
 "nbformat_minor": 2
}
