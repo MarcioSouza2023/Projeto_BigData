{
 "cells": [
  {
   "cell_type": "code",
   "execution_count": 1,
   "metadata": {},
   "outputs": [
    {
     "ename": "FileNotFoundError",
     "evalue": "[Errno 2] No such file or directory: ''",
     "output_type": "error",
     "traceback": [
      "\u001b[1;31m---------------------------------------------------------------------------\u001b[0m",
      "\u001b[1;31mFileNotFoundError\u001b[0m                         Traceback (most recent call last)",
      "\u001b[1;32mc:\\Users\\ton98\\Documents\\Python\\Projeto_BigData\\Well\\codigo_selecionar_arquivo.ipynb Célula 1\u001b[0m line \u001b[0;36m2\n\u001b[0;32m     <a href='vscode-notebook-cell:/c%3A/Users/ton98/Documents/Python/Projeto_BigData/Well/codigo_selecionar_arquivo.ipynb#W0sZmlsZQ%3D%3D?line=19'>20</a>\u001b[0m     \u001b[39m# Move o arquivo para o local correto\u001b[39;00m\n\u001b[0;32m     <a href='vscode-notebook-cell:/c%3A/Users/ton98/Documents/Python/Projeto_BigData/Well/codigo_selecionar_arquivo.ipynb#W0sZmlsZQ%3D%3D?line=20'>21</a>\u001b[0m     shutil\u001b[39m.\u001b[39mcopy(file_path, kaggle_dir)\n\u001b[1;32m---> <a href='vscode-notebook-cell:/c%3A/Users/ton98/Documents/Python/Projeto_BigData/Well/codigo_selecionar_arquivo.ipynb#W0sZmlsZQ%3D%3D?line=22'>23</a>\u001b[0m upload_kaggle_token()\n",
      "\u001b[1;32mc:\\Users\\ton98\\Documents\\Python\\Projeto_BigData\\Well\\codigo_selecionar_arquivo.ipynb Célula 1\u001b[0m line \u001b[0;36m2\n\u001b[0;32m     <a href='vscode-notebook-cell:/c%3A/Users/ton98/Documents/Python/Projeto_BigData/Well/codigo_selecionar_arquivo.ipynb#W0sZmlsZQ%3D%3D?line=17'>18</a>\u001b[0m     os\u001b[39m.\u001b[39mmakedirs(kaggle_dir)\n\u001b[0;32m     <a href='vscode-notebook-cell:/c%3A/Users/ton98/Documents/Python/Projeto_BigData/Well/codigo_selecionar_arquivo.ipynb#W0sZmlsZQ%3D%3D?line=19'>20</a>\u001b[0m \u001b[39m# Move o arquivo para o local correto\u001b[39;00m\n\u001b[1;32m---> <a href='vscode-notebook-cell:/c%3A/Users/ton98/Documents/Python/Projeto_BigData/Well/codigo_selecionar_arquivo.ipynb#W0sZmlsZQ%3D%3D?line=20'>21</a>\u001b[0m shutil\u001b[39m.\u001b[39;49mcopy(file_path, kaggle_dir)\n",
      "File \u001b[1;32mc:\\Users\\ton98\\AppData\\Local\\Programs\\Python\\Python312\\Lib\\shutil.py:423\u001b[0m, in \u001b[0;36mcopy\u001b[1;34m(src, dst, follow_symlinks)\u001b[0m\n\u001b[0;32m    421\u001b[0m \u001b[39mif\u001b[39;00m os\u001b[39m.\u001b[39mpath\u001b[39m.\u001b[39misdir(dst):\n\u001b[0;32m    422\u001b[0m     dst \u001b[39m=\u001b[39m os\u001b[39m.\u001b[39mpath\u001b[39m.\u001b[39mjoin(dst, os\u001b[39m.\u001b[39mpath\u001b[39m.\u001b[39mbasename(src))\n\u001b[1;32m--> 423\u001b[0m copyfile(src, dst, follow_symlinks\u001b[39m=\u001b[39;49mfollow_symlinks)\n\u001b[0;32m    424\u001b[0m copymode(src, dst, follow_symlinks\u001b[39m=\u001b[39mfollow_symlinks)\n\u001b[0;32m    425\u001b[0m \u001b[39mreturn\u001b[39;00m dst\n",
      "File \u001b[1;32mc:\\Users\\ton98\\AppData\\Local\\Programs\\Python\\Python312\\Lib\\shutil.py:260\u001b[0m, in \u001b[0;36mcopyfile\u001b[1;34m(src, dst, follow_symlinks)\u001b[0m\n\u001b[0;32m    258\u001b[0m     os\u001b[39m.\u001b[39msymlink(os\u001b[39m.\u001b[39mreadlink(src), dst)\n\u001b[0;32m    259\u001b[0m \u001b[39melse\u001b[39;00m:\n\u001b[1;32m--> 260\u001b[0m     \u001b[39mwith\u001b[39;00m \u001b[39mopen\u001b[39;49m(src, \u001b[39m'\u001b[39;49m\u001b[39mrb\u001b[39;49m\u001b[39m'\u001b[39;49m) \u001b[39mas\u001b[39;00m fsrc:\n\u001b[0;32m    261\u001b[0m         \u001b[39mtry\u001b[39;00m:\n\u001b[0;32m    262\u001b[0m             \u001b[39mwith\u001b[39;00m \u001b[39mopen\u001b[39m(dst, \u001b[39m'\u001b[39m\u001b[39mwb\u001b[39m\u001b[39m'\u001b[39m) \u001b[39mas\u001b[39;00m fdst:\n\u001b[0;32m    263\u001b[0m                 \u001b[39m# macOS\u001b[39;00m\n",
      "\u001b[1;31mFileNotFoundError\u001b[0m: [Errno 2] No such file or directory: ''"
     ]
    }
   ],
   "source": [
    "from tkinter import Tk\n",
    "from tkinter.filedialog import askopenfilename\n",
    "import os\n",
    "import shutil\n",
    "\n",
    "def upload_kaggle_token():\n",
    "    Tk().withdraw()  # Mantém uma janela Tkinter oculta\n",
    "    file_path = askopenfilename(title=\"kaggle.json\")\n",
    "\n",
    "    # Obtém o diretório do usuário\n",
    "    user_dir = os.path.expanduser(\"~\")\n",
    "\n",
    "    # Constrói o caminho para o diretório .kaggle\n",
    "    kaggle_dir = os.path.join(user_dir, '.kaggle')\n",
    "\n",
    "    # Cria o diretório se não existir\n",
    "    if not os.path.exists(kaggle_dir):\n",
    "        os.makedirs(kaggle_dir)\n",
    "\n",
    "    # Move o arquivo para o local correto\n",
    "    shutil.copy(file_path, kaggle_dir)\n",
    "\n",
    "upload_kaggle_token()"
   ]
  }
 ],
 "metadata": {
  "kernelspec": {
   "display_name": "Python 3",
   "language": "python",
   "name": "python3"
  },
  "language_info": {
   "codemirror_mode": {
    "name": "ipython",
    "version": 3
   },
   "file_extension": ".py",
   "mimetype": "text/x-python",
   "name": "python",
   "nbconvert_exporter": "python",
   "pygments_lexer": "ipython3",
   "version": "3.12.0"
  }
 },
 "nbformat": 4,
 "nbformat_minor": 2
}
