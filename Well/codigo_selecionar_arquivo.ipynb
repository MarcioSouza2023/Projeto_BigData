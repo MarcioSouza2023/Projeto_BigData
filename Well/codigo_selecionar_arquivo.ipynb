{
 "cells": [
  {
   "cell_type": "code",
   "execution_count": null,
   "metadata": {},
   "outputs": [],
   "source": [
    "from tkinter import Tk\n",
    "from tkinter.filedialog import askopenfilename\n",
    "import os\n",
    "import shutil\n",
    "\n",
    "def upload_kaggle_token():\n",
    "    Tk().withdraw()  # Mantém uma janela Tkinter oculta\n",
    "    file_path = askopenfilename(title=\"kaggle.json\")\n",
    "\n",
    "    # Obtém o diretório do usuário\n",
    "    user_dir = os.path.expanduser(\"~\")\n",
    "\n",
    "    # Constrói o caminho para o diretório .kaggle\n",
    "    kaggle_dir = os.path.join(user_dir, '.kaggle')\n",
    "\n",
    "    # Cria o diretório se não existir\n",
    "    if not os.path.exists(kaggle_dir):\n",
    "        os.makedirs(kaggle_dir)\n",
    "\n",
    "    # Move o arquivo para o local correto\n",
    "    shutil.copy(file_path, kaggle_dir)\n",
    "\n",
    "upload_kaggle_token()"
   ]
  }
 ],
 "metadata": {
  "language_info": {
   "name": "python"
  }
 },
 "nbformat": 4,
 "nbformat_minor": 2
}
