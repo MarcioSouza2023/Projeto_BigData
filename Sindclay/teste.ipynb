{
 "cells": [
  {
   "cell_type": "code",
   "execution_count": null,
   "metadata": {},
   "outputs": [],
   "source": [
    "import pandas as pd\n",
    "from unidecode import unidecode"
   ]
  },
  {
   "cell_type": "code",
   "execution_count": null,
   "metadata": {},
   "outputs": [],
   "source": [
    "# Exemplo de DataFrame com a coluna 'CITY' contendo nomes de cidades\n",
    "data = {'CITY': ['são paulo', 'sãopaulo', 'sa£o paulo', 'sp', 'rio de janeiro', 'riodejaneiro', 'rj']}\n",
    "df = pd.DataFrame(data)"
   ]
  },
  {
   "cell_type": "code",
   "execution_count": null,
   "metadata": {},
   "outputs": [],
   "source": [
    "# Função para remover acentos e padronizar os nomes\n",
    "def padronizar_nomes(nome):\n",
    "    nome_sem_acentos = unidecode(nome.lower())  # Remover acentos e converter para minúsculas\n",
    "    return nome_sem_acentos"
   ]
  },
  {
   "cell_type": "code",
   "execution_count": null,
   "metadata": {},
   "outputs": [],
   "source": [
    "# Aplicar a função aos valores da coluna 'CITY'\n",
    "df['CITY'] = df['CITY'].apply(padronizar_nomes)\n"
   ]
  },
  {
   "cell_type": "code",
   "execution_count": null,
   "metadata": {},
   "outputs": [],
   "source": [
    "# Mapeamento de nomes corretos\n",
    "mapeamento = {\n",
    "    'saopaulo': 'sao paulo',\n",
    "    'sp': 'sao paulo',\n",
    "    'riodejaneiro': 'rio de janeiro',\n",
    "    'rj': 'rio de janeiro'\n",
    "}"
   ]
  },
  {
   "cell_type": "code",
   "execution_count": null,
   "metadata": {},
   "outputs": [],
   "source": [
    "# Substituir valores no DataFrame\n",
    "df['CITY'] = df['CITY'].replace(mapeamento)"
   ]
  },
  {
   "cell_type": "code",
   "execution_count": null,
   "metadata": {},
   "outputs": [],
   "source": [
    "# Remover duplicatas após a padronização\n",
    "df = df.drop_duplicates(subset='CITY')"
   ]
  },
  {
   "cell_type": "code",
   "execution_count": null,
   "metadata": {},
   "outputs": [],
   "source": [
    "# Exibir o DataFrame após as substituições\n",
    "print(df)"
   ]
  }
 ],
 "metadata": {
  "language_info": {
   "name": "python"
  }
 },
 "nbformat": 4,
 "nbformat_minor": 2
}
