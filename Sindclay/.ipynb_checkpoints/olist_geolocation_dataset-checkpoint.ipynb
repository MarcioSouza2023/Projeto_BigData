{
 "cells": [
  {
   "cell_type": "markdown",
   "id": "2db7be09",
   "metadata": {},
   "source": [
    "# Instalação e Importação de bibliotecas"
   ]
  },
  {
   "cell_type": "code",
   "execution_count": 7,
   "id": "a9cec224",
   "metadata": {},
   "outputs": [],
   "source": [
    "#!pip install openpyxl\n",
    "#!pip install xlwt"
   ]
  },
  {
   "cell_type": "code",
   "execution_count": 8,
   "id": "94572770",
   "metadata": {},
   "outputs": [],
   "source": [
    "import pandas as pd\n",
    "import numpy as np\n",
    "from unidecode import unidecode # essa biblioteca irá remover acentuação e caracteres especiais"
   ]
  },
  {
   "cell_type": "code",
   "execution_count": 9,
   "id": "f81420a1",
   "metadata": {},
   "outputs": [],
   "source": [
    "# A CONEXÃO COM O Kaggle via API ficará nesta célula\n",
    "\n",
    "# -- CÓDIGO AQUI -- #"
   ]
  },
  {
   "cell_type": "markdown",
   "id": "65e979fb",
   "metadata": {},
   "source": [
    "## Dataframe"
   ]
  },
  {
   "cell_type": "code",
   "execution_count": 10,
   "id": "f8cd685c",
   "metadata": {},
   "outputs": [],
   "source": [
    "# Dataset\n",
    "csv_olist_geolocation_dataset = \"https://raw.githubusercontent.com/Wellitiz/Projeto_BigData/main/dataset/olist_geolocation_dataset.csv\""
   ]
  },
  {
   "cell_type": "code",
   "execution_count": 11,
   "id": "0c270ff1",
   "metadata": {
    "scrolled": true
   },
   "outputs": [
    {
     "data": {
      "text/html": [
       "<div>\n",
       "<style scoped>\n",
       "    .dataframe tbody tr th:only-of-type {\n",
       "        vertical-align: middle;\n",
       "    }\n",
       "\n",
       "    .dataframe tbody tr th {\n",
       "        vertical-align: top;\n",
       "    }\n",
       "\n",
       "    .dataframe thead th {\n",
       "        text-align: right;\n",
       "    }\n",
       "</style>\n",
       "<table border=\"1\" class=\"dataframe\">\n",
       "  <thead>\n",
       "    <tr style=\"text-align: right;\">\n",
       "      <th></th>\n",
       "      <th>geolocation_zip_code_prefix</th>\n",
       "      <th>geolocation_lat</th>\n",
       "      <th>geolocation_lng</th>\n",
       "      <th>geolocation_city</th>\n",
       "      <th>geolocation_state</th>\n",
       "    </tr>\n",
       "  </thead>\n",
       "  <tbody>\n",
       "    <tr>\n",
       "      <th>0</th>\n",
       "      <td>1037</td>\n",
       "      <td>-23.545621</td>\n",
       "      <td>-46.639292</td>\n",
       "      <td>sao paulo</td>\n",
       "      <td>SP</td>\n",
       "    </tr>\n",
       "    <tr>\n",
       "      <th>1</th>\n",
       "      <td>1046</td>\n",
       "      <td>-23.546081</td>\n",
       "      <td>-46.644820</td>\n",
       "      <td>sao paulo</td>\n",
       "      <td>SP</td>\n",
       "    </tr>\n",
       "    <tr>\n",
       "      <th>2</th>\n",
       "      <td>1046</td>\n",
       "      <td>-23.546129</td>\n",
       "      <td>-46.642951</td>\n",
       "      <td>sao paulo</td>\n",
       "      <td>SP</td>\n",
       "    </tr>\n",
       "    <tr>\n",
       "      <th>3</th>\n",
       "      <td>1041</td>\n",
       "      <td>-23.544392</td>\n",
       "      <td>-46.639499</td>\n",
       "      <td>sao paulo</td>\n",
       "      <td>SP</td>\n",
       "    </tr>\n",
       "    <tr>\n",
       "      <th>4</th>\n",
       "      <td>1035</td>\n",
       "      <td>-23.541578</td>\n",
       "      <td>-46.641607</td>\n",
       "      <td>sao paulo</td>\n",
       "      <td>SP</td>\n",
       "    </tr>\n",
       "    <tr>\n",
       "      <th>...</th>\n",
       "      <td>...</td>\n",
       "      <td>...</td>\n",
       "      <td>...</td>\n",
       "      <td>...</td>\n",
       "      <td>...</td>\n",
       "    </tr>\n",
       "    <tr>\n",
       "      <th>1000158</th>\n",
       "      <td>99950</td>\n",
       "      <td>-28.068639</td>\n",
       "      <td>-52.010705</td>\n",
       "      <td>tapejara</td>\n",
       "      <td>RS</td>\n",
       "    </tr>\n",
       "    <tr>\n",
       "      <th>1000159</th>\n",
       "      <td>99900</td>\n",
       "      <td>-27.877125</td>\n",
       "      <td>-52.224882</td>\n",
       "      <td>getulio vargas</td>\n",
       "      <td>RS</td>\n",
       "    </tr>\n",
       "    <tr>\n",
       "      <th>1000160</th>\n",
       "      <td>99950</td>\n",
       "      <td>-28.071855</td>\n",
       "      <td>-52.014716</td>\n",
       "      <td>tapejara</td>\n",
       "      <td>RS</td>\n",
       "    </tr>\n",
       "    <tr>\n",
       "      <th>1000161</th>\n",
       "      <td>99980</td>\n",
       "      <td>-28.388932</td>\n",
       "      <td>-51.846871</td>\n",
       "      <td>david canabarro</td>\n",
       "      <td>RS</td>\n",
       "    </tr>\n",
       "    <tr>\n",
       "      <th>1000162</th>\n",
       "      <td>99950</td>\n",
       "      <td>-28.070104</td>\n",
       "      <td>-52.018658</td>\n",
       "      <td>tapejara</td>\n",
       "      <td>RS</td>\n",
       "    </tr>\n",
       "  </tbody>\n",
       "</table>\n",
       "<p>1000163 rows × 5 columns</p>\n",
       "</div>"
      ],
      "text/plain": [
       "         geolocation_zip_code_prefix  geolocation_lat  geolocation_lng  \\\n",
       "0                               1037       -23.545621       -46.639292   \n",
       "1                               1046       -23.546081       -46.644820   \n",
       "2                               1046       -23.546129       -46.642951   \n",
       "3                               1041       -23.544392       -46.639499   \n",
       "4                               1035       -23.541578       -46.641607   \n",
       "...                              ...              ...              ...   \n",
       "1000158                        99950       -28.068639       -52.010705   \n",
       "1000159                        99900       -27.877125       -52.224882   \n",
       "1000160                        99950       -28.071855       -52.014716   \n",
       "1000161                        99980       -28.388932       -51.846871   \n",
       "1000162                        99950       -28.070104       -52.018658   \n",
       "\n",
       "        geolocation_city geolocation_state  \n",
       "0              sao paulo                SP  \n",
       "1              sao paulo                SP  \n",
       "2              sao paulo                SP  \n",
       "3              sao paulo                SP  \n",
       "4              sao paulo                SP  \n",
       "...                  ...               ...  \n",
       "1000158         tapejara                RS  \n",
       "1000159   getulio vargas                RS  \n",
       "1000160         tapejara                RS  \n",
       "1000161  david canabarro                RS  \n",
       "1000162         tapejara                RS  \n",
       "\n",
       "[1000163 rows x 5 columns]"
      ]
     },
     "execution_count": 11,
     "metadata": {},
     "output_type": "execute_result"
    }
   ],
   "source": [
    "# Carrega o dataset\n",
    "df = pd.read_csv(csv_olist_geolocation_dataset)\n",
    "df"
   ]
  },
  {
   "cell_type": "markdown",
   "id": "3c388e1c",
   "metadata": {},
   "source": [
    "#### Função para remover acentos e caracteres especiais"
   ]
  },
  {
   "cell_type": "code",
   "execution_count": 12,
   "id": "6c51745c",
   "metadata": {},
   "outputs": [
    {
     "name": "stdout",
     "output_type": "stream",
     "text": [
      "        geolocation_city geolocation_city_padronizada\n",
      "0              sao paulo                    sao paulo\n",
      "1              sao paulo                    sao paulo\n",
      "2              sao paulo                    sao paulo\n",
      "3              sao paulo                    sao paulo\n",
      "4              sao paulo                    sao paulo\n",
      "...                  ...                          ...\n",
      "1000158         tapejara                     tapejara\n",
      "1000159   getulio vargas               getulio vargas\n",
      "1000160         tapejara                     tapejara\n",
      "1000161  david canabarro              david canabarro\n",
      "1000162         tapejara                     tapejara\n",
      "\n",
      "[1000163 rows x 2 columns]\n"
     ]
    }
   ],
   "source": [
    "# Função para remover acentuações e caracteres especiais\n",
    "def padronizar_cidade(city):\n",
    "    city_sem_acentos = unidecode(city)\n",
    "    city_sem_especiais = ''.join(e for e in city_sem_acentos if e.isalnum() or e.isspace())\n",
    "    return city_sem_especiais\n",
    "\n",
    "# Aplica a função à coluna 'geolocation_city'\n",
    "df['geolocation_city_padronizada'] = df['geolocation_city'].apply(padronizar_cidade)\n",
    "\n",
    "# Exibe o DataFrame resultante\n",
    "print(df[['geolocation_city', 'geolocation_city_padronizada']])"
   ]
  },
  {
   "cell_type": "code",
   "execution_count": 13,
   "id": "14514331",
   "metadata": {
    "scrolled": true
   },
   "outputs": [],
   "source": [
    "#df['geolocation_city_padronizada'].unique()"
   ]
  },
  {
   "cell_type": "markdown",
   "id": "276361fd",
   "metadata": {},
   "source": [
    "### Reescrevendo nomes de cidades relevantes\n",
    "\n",
    "Foram reescritos os nomes de cidades que aparecem com maior frequência"
   ]
  },
  {
   "cell_type": "code",
   "execution_count": 14,
   "id": "0bde4e65",
   "metadata": {},
   "outputs": [],
   "source": [
    "df['geolocation_city_padronizada'] = df['geolocation_city_padronizada'].replace(['saopaulo', 'saPSo paulo' ], 'sao paulo')\n",
    "df['geolocation_city_padronizada'] = df['geolocation_city_padronizada'].replace(['4o centenario'], 'quarto centenario')\n",
    "df['geolocation_city_padronizada'] = df['geolocation_city_padronizada'].replace(['floripa'], 'florianopolis')"
   ]
  },
  {
   "cell_type": "code",
   "execution_count": 15,
   "id": "48c66292",
   "metadata": {
    "scrolled": true
   },
   "outputs": [
    {
     "data": {
      "text/html": [
       "<div>\n",
       "<style scoped>\n",
       "    .dataframe tbody tr th:only-of-type {\n",
       "        vertical-align: middle;\n",
       "    }\n",
       "\n",
       "    .dataframe tbody tr th {\n",
       "        vertical-align: top;\n",
       "    }\n",
       "\n",
       "    .dataframe thead th {\n",
       "        text-align: right;\n",
       "    }\n",
       "</style>\n",
       "<table border=\"1\" class=\"dataframe\">\n",
       "  <thead>\n",
       "    <tr style=\"text-align: right;\">\n",
       "      <th></th>\n",
       "      <th>Unique Cities</th>\n",
       "    </tr>\n",
       "  </thead>\n",
       "  <tbody>\n",
       "    <tr>\n",
       "      <th>count</th>\n",
       "      <td>5937</td>\n",
       "    </tr>\n",
       "    <tr>\n",
       "      <th>unique</th>\n",
       "      <td>5937</td>\n",
       "    </tr>\n",
       "    <tr>\n",
       "      <th>top</th>\n",
       "      <td>sao paulo</td>\n",
       "    </tr>\n",
       "    <tr>\n",
       "      <th>freq</th>\n",
       "      <td>1</td>\n",
       "    </tr>\n",
       "  </tbody>\n",
       "</table>\n",
       "</div>"
      ],
      "text/plain": [
       "       Unique Cities\n",
       "count           5937\n",
       "unique          5937\n",
       "top        sao paulo\n",
       "freq               1"
      ]
     },
     "execution_count": 15,
     "metadata": {},
     "output_type": "execute_result"
    }
   ],
   "source": [
    "# Selecione a coluna desejada\n",
    "unique_cities = df['geolocation_city_padronizada'].unique()\n",
    "\n",
    "# Crie um DataFrame a partir do array\n",
    "df_unique_cities = pd.DataFrame({'Unique Cities': unique_cities})\n",
    "\n",
    "# Exiba o DataFrame\n",
    "df_unique_cities.describe()"
   ]
  },
  {
   "cell_type": "markdown",
   "id": "812d1084",
   "metadata": {},
   "source": [
    "### Ranking das Cidades\n",
    "\n",
    "Abaixo estão as cinco cidades com maior frequência no dataset"
   ]
  },
  {
   "cell_type": "code",
   "execution_count": 16,
   "id": "282cdb7d",
   "metadata": {},
   "outputs": [
    {
     "data": {
      "text/plain": [
       "geolocation_city_padronizada\n",
       "sao paulo                       160721\n",
       "rio de janeiro                   62151\n",
       "belo horizonte                   27805\n",
       "curitiba                         16593\n",
       "porto alegre                     13521\n",
       "                                 ...  \n",
       "santa eudoxia                        1\n",
       "lambari d26apos3boeste               1\n",
       "canhoba                              1\n",
       "lamarao                              1\n",
       " cidade                              1\n",
       "Name: count, Length: 5937, dtype: int64"
      ]
     },
     "execution_count": 16,
     "metadata": {},
     "output_type": "execute_result"
    }
   ],
   "source": [
    "df[['geolocation_city_padronizada']].value_counts()"
   ]
  },
  {
   "cell_type": "markdown",
   "id": "9a82300c",
   "metadata": {},
   "source": [
    "# Data frame com os dados Tratados"
   ]
  },
  {
   "cell_type": "code",
   "execution_count": 18,
   "id": "0cb37e74",
   "metadata": {},
   "outputs": [
    {
     "data": {
      "text/html": [
       "<div>\n",
       "<style scoped>\n",
       "    .dataframe tbody tr th:only-of-type {\n",
       "        vertical-align: middle;\n",
       "    }\n",
       "\n",
       "    .dataframe tbody tr th {\n",
       "        vertical-align: top;\n",
       "    }\n",
       "\n",
       "    .dataframe thead th {\n",
       "        text-align: right;\n",
       "    }\n",
       "</style>\n",
       "<table border=\"1\" class=\"dataframe\">\n",
       "  <thead>\n",
       "    <tr style=\"text-align: right;\">\n",
       "      <th></th>\n",
       "      <th>geolocation_zip_code_prefix</th>\n",
       "      <th>geolocation_city_padronizada</th>\n",
       "      <th>geolocation_state</th>\n",
       "    </tr>\n",
       "  </thead>\n",
       "  <tbody>\n",
       "    <tr>\n",
       "      <th>0</th>\n",
       "      <td>1037</td>\n",
       "      <td>sao paulo</td>\n",
       "      <td>SP</td>\n",
       "    </tr>\n",
       "    <tr>\n",
       "      <th>1</th>\n",
       "      <td>1046</td>\n",
       "      <td>sao paulo</td>\n",
       "      <td>SP</td>\n",
       "    </tr>\n",
       "    <tr>\n",
       "      <th>2</th>\n",
       "      <td>1046</td>\n",
       "      <td>sao paulo</td>\n",
       "      <td>SP</td>\n",
       "    </tr>\n",
       "    <tr>\n",
       "      <th>3</th>\n",
       "      <td>1041</td>\n",
       "      <td>sao paulo</td>\n",
       "      <td>SP</td>\n",
       "    </tr>\n",
       "    <tr>\n",
       "      <th>4</th>\n",
       "      <td>1035</td>\n",
       "      <td>sao paulo</td>\n",
       "      <td>SP</td>\n",
       "    </tr>\n",
       "    <tr>\n",
       "      <th>...</th>\n",
       "      <td>...</td>\n",
       "      <td>...</td>\n",
       "      <td>...</td>\n",
       "    </tr>\n",
       "    <tr>\n",
       "      <th>1000158</th>\n",
       "      <td>99950</td>\n",
       "      <td>tapejara</td>\n",
       "      <td>RS</td>\n",
       "    </tr>\n",
       "    <tr>\n",
       "      <th>1000159</th>\n",
       "      <td>99900</td>\n",
       "      <td>getulio vargas</td>\n",
       "      <td>RS</td>\n",
       "    </tr>\n",
       "    <tr>\n",
       "      <th>1000160</th>\n",
       "      <td>99950</td>\n",
       "      <td>tapejara</td>\n",
       "      <td>RS</td>\n",
       "    </tr>\n",
       "    <tr>\n",
       "      <th>1000161</th>\n",
       "      <td>99980</td>\n",
       "      <td>david canabarro</td>\n",
       "      <td>RS</td>\n",
       "    </tr>\n",
       "    <tr>\n",
       "      <th>1000162</th>\n",
       "      <td>99950</td>\n",
       "      <td>tapejara</td>\n",
       "      <td>RS</td>\n",
       "    </tr>\n",
       "  </tbody>\n",
       "</table>\n",
       "<p>1000163 rows × 3 columns</p>\n",
       "</div>"
      ],
      "text/plain": [
       "         geolocation_zip_code_prefix geolocation_city_padronizada  \\\n",
       "0                               1037                    sao paulo   \n",
       "1                               1046                    sao paulo   \n",
       "2                               1046                    sao paulo   \n",
       "3                               1041                    sao paulo   \n",
       "4                               1035                    sao paulo   \n",
       "...                              ...                          ...   \n",
       "1000158                        99950                     tapejara   \n",
       "1000159                        99900               getulio vargas   \n",
       "1000160                        99950                     tapejara   \n",
       "1000161                        99980              david canabarro   \n",
       "1000162                        99950                     tapejara   \n",
       "\n",
       "        geolocation_state  \n",
       "0                      SP  \n",
       "1                      SP  \n",
       "2                      SP  \n",
       "3                      SP  \n",
       "4                      SP  \n",
       "...                   ...  \n",
       "1000158                RS  \n",
       "1000159                RS  \n",
       "1000160                RS  \n",
       "1000161                RS  \n",
       "1000162                RS  \n",
       "\n",
       "[1000163 rows x 3 columns]"
      ]
     },
     "execution_count": 18,
     "metadata": {},
     "output_type": "execute_result"
    }
   ],
   "source": [
    "# Colunas: geolocation_zip_code_prefix\tgeolocation_lat\tgeolocation_lng\tgeolocation_city\tgeolocation_state\n",
    "df[['geolocation_zip_code_prefix','geolocation_city_padronizada','geolocation_state']]"
   ]
  },
  {
   "cell_type": "code",
   "execution_count": 19,
   "id": "11abb9b4",
   "metadata": {},
   "outputs": [],
   "source": []
  }
 ],
 "metadata": {
  "kernelspec": {
   "display_name": "Python 3 (ipykernel)",
   "language": "python",
   "name": "python3"
  },
  "language_info": {
   "codemirror_mode": {
    "name": "ipython",
    "version": 3
   },
   "file_extension": ".py",
   "mimetype": "text/x-python",
   "name": "python",
   "nbconvert_exporter": "python",
   "pygments_lexer": "ipython3",
   "version": "3.11.5"
  }
 },
 "nbformat": 4,
 "nbformat_minor": 5
}
