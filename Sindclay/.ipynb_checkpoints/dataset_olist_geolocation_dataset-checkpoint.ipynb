{
 "cells": [
  {
   "cell_type": "markdown",
   "id": "2db7be09",
   "metadata": {},
   "source": [
    "# Instalação e Importação de bibliotecas"
   ]
  },
  {
   "cell_type": "code",
   "execution_count": null,
   "id": "a9cec224",
   "metadata": {},
   "outputs": [],
   "source": [
    "#!pip install openpyxl\n",
    "#!pip install xlwt"
   ]
  },
  {
   "cell_type": "code",
   "execution_count": null,
   "id": "94572770",
   "metadata": {},
   "outputs": [],
   "source": [
    "import pandas as pd\n",
    "import numpy as np\n",
    "from unidecode import unidecode # essa biblioteca irá remover acentuação e caracteres especiais"
   ]
  },
  {
   "cell_type": "code",
   "execution_count": null,
   "id": "f81420a1",
   "metadata": {},
   "outputs": [],
   "source": [
    "# A CONEXÃO COM O Kaggle via API ficará nesta célula\n",
    "\n",
    "# -- CÓDIGO AQUI -- #"
   ]
  },
  {
   "cell_type": "markdown",
   "id": "65e979fb",
   "metadata": {},
   "source": [
    "## Dataframe"
   ]
  },
  {
   "cell_type": "code",
   "execution_count": null,
   "id": "f8cd685c",
   "metadata": {},
   "outputs": [],
   "source": [
    "# Dataset\n",
    "csv_olist_geolocation_dataset = \"https://raw.githubusercontent.com/Wellitiz/Projeto_BigData/main/dataset/olist_geolocation_dataset.csv\""
   ]
  },
  {
   "cell_type": "code",
   "execution_count": null,
   "id": "0c270ff1",
   "metadata": {
    "scrolled": true
   },
   "outputs": [],
   "source": [
    "# Carrega o dataset\n",
    "df = pd.read_csv(csv_olist_geolocation_dataset)\n",
    "df"
   ]
  },
  {
   "cell_type": "markdown",
   "id": "3c388e1c",
   "metadata": {},
   "source": [
    "#### Função para remover acentos e caracteres especiais"
   ]
  },
  {
   "cell_type": "code",
   "execution_count": null,
   "id": "6c51745c",
   "metadata": {},
   "outputs": [],
   "source": [
    "# Função para remover acentuações e caracteres especiais\n",
    "def padronizar_cidade(city):\n",
    "    city_sem_acentos = unidecode(city)\n",
    "    city_sem_especiais = ''.join(e for e in city_sem_acentos if e.isalnum() or e.isspace())\n",
    "    return city_sem_especiais\n",
    "\n",
    "# Aplica a função à coluna 'geolocation_city'\n",
    "df['geolocation_city_padronizada'] = df['geolocation_city'].apply(padronizar_cidade)\n",
    "\n",
    "# Exibe o DataFrame resultante\n",
    "print(df[['geolocation_city', 'geolocation_city_padronizada']])"
   ]
  },
  {
   "cell_type": "code",
   "execution_count": null,
   "id": "14514331",
   "metadata": {
    "scrolled": true
   },
   "outputs": [],
   "source": [
    "#df['geolocation_city_padronizada'].unique()"
   ]
  },
  {
   "cell_type": "markdown",
   "id": "276361fd",
   "metadata": {},
   "source": [
    "### Reescrevendo nomes de cidades relevantes\n",
    "\n",
    "Foram reescrevidos os nomes de cidades que aparecem com maior frequência"
   ]
  },
  {
   "cell_type": "code",
   "execution_count": null,
   "id": "0bde4e65",
   "metadata": {},
   "outputs": [],
   "source": [
    "df['geolocation_city_padronizada'] = df['geolocation_city_padronizada'].replace(['saopaulo', 'saPSo paulo' ], 'sao paulo')\n",
    "df['geolocation_city_padronizada'] = df['geolocation_city_padronizada'].replace(['4o centenario'], 'quarto centenario')\n",
    "df['geolocation_city_padronizada'] = df['geolocation_city_padronizada'].replace(['floripa'], 'florianopolis')"
   ]
  },
  {
   "cell_type": "code",
   "execution_count": null,
   "id": "48c66292",
   "metadata": {},
   "outputs": [],
   "source": [
    "# Selecione a coluna desejada\n",
    "unique_cities = df['geolocation_city_padronizada'].unique()\n",
    "\n",
    "# Crie um DataFrame a partir do array\n",
    "df_unique_cities = pd.DataFrame({'Unique Cities': unique_cities})\n",
    "\n",
    "# Exiba o DataFrame\n",
    "df_unique_cities.describe()"
   ]
  },
  {
   "cell_type": "code",
   "execution_count": null,
   "id": "282cdb7d",
   "metadata": {},
   "outputs": [],
   "source": [
    "df[['geolocation_city_padronizada']].value_counts()"
   ]
  },
  {
   "cell_type": "code",
   "execution_count": null,
   "id": "95f0e035",
   "metadata": {},
   "outputs": [],
   "source": [
    "# Seu DataFrame original\n",
    "# Supondo que você já tenha calculado os valores usando df[['geolocation_city_padronizada']].value_counts()\n",
    "# e armazenado em um DataFrame chamado 'contagem_cidades'\n",
    "### contagem_cidades = df[['geolocation_city_padronizada']].value_counts().reset_index(name='contagem')\n",
    "\n",
    "# Caminho do arquivo Excel para salvar\n",
    "### caminho_excel = 'contagem_cidades.xlsx'\n",
    "\n",
    "# Salva os resultados no arquivo Excel\n",
    "### contagem_cidades.to_excel(caminho_excel, index=False)\n",
    "\n",
    "# Confirmação\n",
    "### print(f\"Os resultados foram salvos em {caminho_excel}\") "
   ]
  },
  {
   "cell_type": "markdown",
   "id": "9a82300c",
   "metadata": {},
   "source": [
    "# Data frame com os dados Tratados"
   ]
  },
  {
   "cell_type": "code",
   "execution_count": null,
   "id": "0cb37e74",
   "metadata": {},
   "outputs": [],
   "source": [
    "# Colunas: geolocation_zip_code_prefix\tgeolocation_lat\tgeolocation_lng\tgeolocation_city\tgeolocation_state\n",
    "df[['geolocation_zip_code_prefix','geolocation_city_padronizada','geolocation_state']]"
   ]
  },
  {
   "cell_type": "code",
   "execution_count": null,
   "id": "11abb9b4",
   "metadata": {},
   "outputs": [],
   "source": [
    "#pd.set_option('display.max_rows', None)"
   ]
  },
  {
   "cell_type": "code",
   "execution_count": null,
   "id": "36c33d77",
   "metadata": {},
   "outputs": [],
   "source": [
    "df.groupby['geolocation_city_padronizada'].mean() #.str.contains('paulo')]"
   ]
  },
  {
   "cell_type": "code",
   "execution_count": null,
   "id": "25627e4f",
   "metadata": {},
   "outputs": [],
   "source": []
  }
 ],
 "metadata": {
  "kernelspec": {
   "display_name": "Python 3 (ipykernel)",
   "language": "python",
   "name": "python3"
  },
  "language_info": {
   "codemirror_mode": {
    "name": "ipython",
    "version": 3
   },
   "file_extension": ".py",
   "mimetype": "text/x-python",
   "name": "python",
   "nbconvert_exporter": "python",
   "pygments_lexer": "ipython3",
   "version": "3.11.5"
  }
 },
 "nbformat": 4,
 "nbformat_minor": 5
}
